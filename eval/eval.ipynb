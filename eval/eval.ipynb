{
 "cells": [
  {
   "cell_type": "code",
   "execution_count": null,
   "id": "8755a55f-e122-469a-a5b5-187218caa31d",
   "metadata": {},
   "outputs": [],
   "source": [
    "from evalscope.run import run_task\n",
    "import modeling_tinyllm\n",
    "\n",
    "task_cfg = {\n",
    "    'model': 'learn2pro/buddygpt-0.2b-base-zh',\n",
    "    'datasets': ['cmmlu'],\n",
    "    'eval-batch-size': 32,\n",
    "    'few_shot_num':2,\n",
    "}\n",
    "\n",
    "run_task(task_cfg=task_cfg)"
   ]
  },
  {
   "cell_type": "code",
   "execution_count": null,
   "id": "3fa67c44-92ed-4267-98f2-85e83976ce53",
   "metadata": {},
   "outputs": [],
   "source": [
    "from transformers import AutoTokenizer\n",
    "\n",
    "tokenizer = AutoTokenizer.from_pretrained('Qwen/Qwen3-0.6B' ,trust_remote_code=True)\n",
    "# tokenizer.pad_token = tokenizer.eos_token\n",
    "len(tokenizer)"
   ]
  },
  {
   "cell_type": "code",
   "execution_count": null,
   "id": "a2da8e86-411c-4c0d-b174-3c2eacff86db",
   "metadata": {},
   "outputs": [],
   "source": [
    "import torch\n",
    "\n",
    "(torch.arange(0, 10, 2) / 10).dtype"
   ]
  },
  {
   "cell_type": "code",
   "execution_count": 9,
   "id": "6d22a727-5f4f-4c28-ba79-d60c0ca0765e",
   "metadata": {},
   "outputs": [
    {
     "data": {
      "text/plain": [
       "BuddyGPTModel(\n",
       "  (embed_tokens): Embedding(151669, 768)\n",
       "  (layers): ModuleList(\n",
       "    (0-3): 4 x DecoderLayer(\n",
       "      (self_attn): SdpaAttention(\n",
       "        (q_proj): Linear(in_features=768, out_features=768, bias=True)\n",
       "        (k_proj): Linear(in_features=768, out_features=384, bias=True)\n",
       "        (v_proj): Linear(in_features=768, out_features=384, bias=True)\n",
       "        (o_proj): Linear(in_features=768, out_features=768, bias=False)\n",
       "        (rotary_emb): RotaryEmbedding()\n",
       "      )\n",
       "      (mlp): GateMLP(\n",
       "        (gate_proj): Linear(in_features=768, out_features=1536, bias=False)\n",
       "        (up_proj): Linear(in_features=768, out_features=1536, bias=False)\n",
       "        (down_proj): Linear(in_features=1536, out_features=768, bias=False)\n",
       "        (act_fn): SiLU()\n",
       "      )\n",
       "      (input_layernorm): RMSNorm((768,), eps=1e-06, elementwise_affine=True)\n",
       "      (post_layernorm): RMSNorm((768,), eps=1e-06, elementwise_affine=True)\n",
       "    )\n",
       "  )\n",
       "  (norm): RMSNorm((768,), eps=1e-06, elementwise_affine=True)\n",
       ")"
      ]
     },
     "execution_count": 9,
     "metadata": {},
     "output_type": "execute_result"
    }
   ],
   "source": [
    "import sys\n",
    "sys.path.append('..')  # Make sure project root is in the path\n",
    "\n",
    "from transformers import AutoModelForCausalLM, AutoTokenizer\n",
    "import model.modeling_buddygpt\n",
    "\n",
    "model_id = 'learn2pro/buddygpt-0.1b-base-zh'\n",
    "tokenizer = AutoTokenizer.from_pretrained(model_id)\n",
    "model = AutoModelForCausalLM.from_pretrained(model_id)\n",
    "# print_parameters(model)\n",
    "model.to('cuda')\n"
   ]
  },
  {
   "cell_type": "code",
   "execution_count": null,
   "id": "74719f65-d5d0-4075-9276-aaf8b1c24a3a",
   "metadata": {},
   "outputs": [],
   "source": [
    "def sample(model, query, max_length=128):\n",
    "    input_ids = tokenizer.encode(query, return_tensors=\"pt\").to(model.device)\n",
    "    output = model.generate(\n",
    "        input_ids=input_ids,\n",
    "        max_new_tokens=max_length,\n",
    "    )\n",
    "    gen_text = tokenizer.decode(output[0], skip_special_tokens=True)\n",
    "    return gen_text\n",
    "\n",
    "for _ in range(10):\n",
    "    # res = sample(model, 'which is the capital of China?')\n",
    "    res = sample(model, '中国首都是哪?')\n",
    "    print(res)"
   ]
  },
  {
   "cell_type": "code",
   "execution_count": null,
   "id": "a2aceb80-e83a-4460-b793-c75097b1217f",
   "metadata": {},
   "outputs": [],
   "source": []
  }
 ],
 "metadata": {
  "kernelspec": {
   "display_name": "Python 3 (ipykernel)",
   "language": "python",
   "name": "python3"
  },
  "language_info": {
   "codemirror_mode": {
    "name": "ipython",
    "version": 3
   },
   "file_extension": ".py",
   "mimetype": "text/x-python",
   "name": "python",
   "nbconvert_exporter": "python",
   "pygments_lexer": "ipython3",
   "version": "3.10.15"
  }
 },
 "nbformat": 4,
 "nbformat_minor": 5
}
